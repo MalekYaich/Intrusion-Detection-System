{
 "cells": [
  {
   "cell_type": "markdown",
   "id": "f82b38b2",
   "metadata": {},
   "source": [
    "<h6>Projet AI & cybersecurity :</h6>\n",
    "<h2 align=\"center\">  Système de détection d’intrusion </h2>  \n",
    "<h6 align=\"right\" > réalisé par : Malèk YAICH </h6>\n",
    "</br>"
   ]
  },
  {
   "cell_type": "markdown",
   "id": "3c87df7f",
   "metadata": {},
   "source": [
    "# I. Importation des bibliothèques "
   ]
  },
  {
   "cell_type": "code",
   "execution_count": 1,
   "id": "f7aef4ef",
   "metadata": {},
   "outputs": [],
   "source": [
    "import warnings\n",
    "warnings.filterwarnings(\"ignore\")"
   ]
  },
  {
   "cell_type": "code",
   "execution_count": 2,
   "id": "ec52edae",
   "metadata": {},
   "outputs": [],
   "source": [
    "import pandas as pd\n",
    "import numpy as np\n",
    "import matplotlib.pyplot as plt\n",
    "import seaborn as sns\n",
    "from sklearn.model_selection import train_test_split\n",
    "from sklearn.metrics import classification_report, confusion_matrix,accuracy_score,precision_score,recall_score,f1_score\n"
   ]
  },
  {
   "cell_type": "code",
   "execution_count": 3,
   "id": "987e19bb",
   "metadata": {},
   "outputs": [
    {
     "data": {
      "text/html": [
       "<div>\n",
       "<style scoped>\n",
       "    .dataframe tbody tr th:only-of-type {\n",
       "        vertical-align: middle;\n",
       "    }\n",
       "\n",
       "    .dataframe tbody tr th {\n",
       "        vertical-align: top;\n",
       "    }\n",
       "\n",
       "    .dataframe thead th {\n",
       "        text-align: right;\n",
       "    }\n",
       "</style>\n",
       "<table border=\"1\" class=\"dataframe\">\n",
       "  <thead>\n",
       "    <tr style=\"text-align: right;\">\n",
       "      <th></th>\n",
       "      <th>Flow Duration</th>\n",
       "      <th>Total Fwd Packets</th>\n",
       "      <th>Total Backward Packets</th>\n",
       "      <th>Total Length of Fwd Packets</th>\n",
       "      <th>Total Length of Bwd Packets</th>\n",
       "      <th>Fwd Packet Length Max</th>\n",
       "      <th>Fwd Packet Length Min</th>\n",
       "      <th>Fwd Packet Length Mean</th>\n",
       "      <th>Fwd Packet Length Std</th>\n",
       "      <th>Bwd Packet Length Max</th>\n",
       "      <th>...</th>\n",
       "      <th>min_seg_size_forward</th>\n",
       "      <th>Active Mean</th>\n",
       "      <th>Active Std</th>\n",
       "      <th>Active Max</th>\n",
       "      <th>Active Min</th>\n",
       "      <th>Idle Mean</th>\n",
       "      <th>Idle Std</th>\n",
       "      <th>Idle Max</th>\n",
       "      <th>Idle Min</th>\n",
       "      <th>Label</th>\n",
       "    </tr>\n",
       "  </thead>\n",
       "  <tbody>\n",
       "    <tr>\n",
       "      <th>0</th>\n",
       "      <td>5.416666e-07</td>\n",
       "      <td>0.0</td>\n",
       "      <td>0.000003</td>\n",
       "      <td>4.651163e-07</td>\n",
       "      <td>9.153974e-09</td>\n",
       "      <td>0.000242</td>\n",
       "      <td>0.002581</td>\n",
       "      <td>0.00101</td>\n",
       "      <td>0.0</td>\n",
       "      <td>0.000307</td>\n",
       "      <td>...</td>\n",
       "      <td>1.0</td>\n",
       "      <td>0.0</td>\n",
       "      <td>0.0</td>\n",
       "      <td>0.0</td>\n",
       "      <td>0.0</td>\n",
       "      <td>0.0</td>\n",
       "      <td>0.0</td>\n",
       "      <td>0.0</td>\n",
       "      <td>0.0</td>\n",
       "      <td>0</td>\n",
       "    </tr>\n",
       "    <tr>\n",
       "      <th>1</th>\n",
       "      <td>5.416666e-07</td>\n",
       "      <td>0.0</td>\n",
       "      <td>0.000003</td>\n",
       "      <td>4.651163e-07</td>\n",
       "      <td>9.153974e-09</td>\n",
       "      <td>0.000242</td>\n",
       "      <td>0.002581</td>\n",
       "      <td>0.00101</td>\n",
       "      <td>0.0</td>\n",
       "      <td>0.000307</td>\n",
       "      <td>...</td>\n",
       "      <td>1.0</td>\n",
       "      <td>0.0</td>\n",
       "      <td>0.0</td>\n",
       "      <td>0.0</td>\n",
       "      <td>0.0</td>\n",
       "      <td>0.0</td>\n",
       "      <td>0.0</td>\n",
       "      <td>0.0</td>\n",
       "      <td>0.0</td>\n",
       "      <td>0</td>\n",
       "    </tr>\n",
       "    <tr>\n",
       "      <th>2</th>\n",
       "      <td>4.416666e-07</td>\n",
       "      <td>0.0</td>\n",
       "      <td>0.000003</td>\n",
       "      <td>4.651163e-07</td>\n",
       "      <td>9.153974e-09</td>\n",
       "      <td>0.000242</td>\n",
       "      <td>0.002581</td>\n",
       "      <td>0.00101</td>\n",
       "      <td>0.0</td>\n",
       "      <td>0.000307</td>\n",
       "      <td>...</td>\n",
       "      <td>1.0</td>\n",
       "      <td>0.0</td>\n",
       "      <td>0.0</td>\n",
       "      <td>0.0</td>\n",
       "      <td>0.0</td>\n",
       "      <td>0.0</td>\n",
       "      <td>0.0</td>\n",
       "      <td>0.0</td>\n",
       "      <td>0.0</td>\n",
       "      <td>0</td>\n",
       "    </tr>\n",
       "    <tr>\n",
       "      <th>3</th>\n",
       "      <td>7.499999e-07</td>\n",
       "      <td>0.0</td>\n",
       "      <td>0.000003</td>\n",
       "      <td>4.651163e-07</td>\n",
       "      <td>9.153974e-09</td>\n",
       "      <td>0.000242</td>\n",
       "      <td>0.002581</td>\n",
       "      <td>0.00101</td>\n",
       "      <td>0.0</td>\n",
       "      <td>0.000307</td>\n",
       "      <td>...</td>\n",
       "      <td>1.0</td>\n",
       "      <td>0.0</td>\n",
       "      <td>0.0</td>\n",
       "      <td>0.0</td>\n",
       "      <td>0.0</td>\n",
       "      <td>0.0</td>\n",
       "      <td>0.0</td>\n",
       "      <td>0.0</td>\n",
       "      <td>0.0</td>\n",
       "      <td>0</td>\n",
       "    </tr>\n",
       "    <tr>\n",
       "      <th>4</th>\n",
       "      <td>7.249999e-07</td>\n",
       "      <td>0.0</td>\n",
       "      <td>0.000003</td>\n",
       "      <td>4.651163e-07</td>\n",
       "      <td>9.153974e-09</td>\n",
       "      <td>0.000242</td>\n",
       "      <td>0.002581</td>\n",
       "      <td>0.00101</td>\n",
       "      <td>0.0</td>\n",
       "      <td>0.000307</td>\n",
       "      <td>...</td>\n",
       "      <td>1.0</td>\n",
       "      <td>0.0</td>\n",
       "      <td>0.0</td>\n",
       "      <td>0.0</td>\n",
       "      <td>0.0</td>\n",
       "      <td>0.0</td>\n",
       "      <td>0.0</td>\n",
       "      <td>0.0</td>\n",
       "      <td>0.0</td>\n",
       "      <td>0</td>\n",
       "    </tr>\n",
       "  </tbody>\n",
       "</table>\n",
       "<p>5 rows × 78 columns</p>\n",
       "</div>"
      ],
      "text/plain": [
       "   Flow Duration  Total Fwd Packets  Total Backward Packets  \\\n",
       "0   5.416666e-07                0.0                0.000003   \n",
       "1   5.416666e-07                0.0                0.000003   \n",
       "2   4.416666e-07                0.0                0.000003   \n",
       "3   7.499999e-07                0.0                0.000003   \n",
       "4   7.249999e-07                0.0                0.000003   \n",
       "\n",
       "   Total Length of Fwd Packets  Total Length of Bwd Packets  \\\n",
       "0                 4.651163e-07                 9.153974e-09   \n",
       "1                 4.651163e-07                 9.153974e-09   \n",
       "2                 4.651163e-07                 9.153974e-09   \n",
       "3                 4.651163e-07                 9.153974e-09   \n",
       "4                 4.651163e-07                 9.153974e-09   \n",
       "\n",
       "   Fwd Packet Length Max  Fwd Packet Length Min  Fwd Packet Length Mean  \\\n",
       "0               0.000242               0.002581                 0.00101   \n",
       "1               0.000242               0.002581                 0.00101   \n",
       "2               0.000242               0.002581                 0.00101   \n",
       "3               0.000242               0.002581                 0.00101   \n",
       "4               0.000242               0.002581                 0.00101   \n",
       "\n",
       "   Fwd Packet Length Std  Bwd Packet Length Max  ...  min_seg_size_forward  \\\n",
       "0                    0.0               0.000307  ...                   1.0   \n",
       "1                    0.0               0.000307  ...                   1.0   \n",
       "2                    0.0               0.000307  ...                   1.0   \n",
       "3                    0.0               0.000307  ...                   1.0   \n",
       "4                    0.0               0.000307  ...                   1.0   \n",
       "\n",
       "   Active Mean  Active Std  Active Max  Active Min  Idle Mean  Idle Std  \\\n",
       "0          0.0         0.0         0.0         0.0        0.0       0.0   \n",
       "1          0.0         0.0         0.0         0.0        0.0       0.0   \n",
       "2          0.0         0.0         0.0         0.0        0.0       0.0   \n",
       "3          0.0         0.0         0.0         0.0        0.0       0.0   \n",
       "4          0.0         0.0         0.0         0.0        0.0       0.0   \n",
       "\n",
       "   Idle Max  Idle Min  Label  \n",
       "0       0.0       0.0      0  \n",
       "1       0.0       0.0      0  \n",
       "2       0.0       0.0      0  \n",
       "3       0.0       0.0      0  \n",
       "4       0.0       0.0      0  \n",
       "\n",
       "[5 rows x 78 columns]"
      ]
     },
     "execution_count": 3,
     "metadata": {},
     "output_type": "execute_result"
    }
   ],
   "source": [
    "data=pd.read_csv(\"CICIDS2017_sample_km.csv\")\n",
    "data.head()"
   ]
  },
  {
   "cell_type": "code",
   "execution_count": 4,
   "id": "7cccb404",
   "metadata": {
    "scrolled": true
   },
   "outputs": [
    {
     "data": {
      "text/plain": [
       "0    18225\n",
       "3     3042\n",
       "6     2180\n",
       "1     1966\n",
       "5     1255\n",
       "2       96\n",
       "4       36\n",
       "Name: Label, dtype: int64"
      ]
     },
     "execution_count": 4,
     "metadata": {},
     "output_type": "execute_result"
    }
   ],
   "source": [
    "data.Label.value_counts()"
   ]
  },
  {
   "cell_type": "code",
   "execution_count": 5,
   "id": "3d061eb7",
   "metadata": {},
   "outputs": [
    {
     "data": {
      "text/plain": [
       "Flow Duration                  0\n",
       "Total Fwd Packets              0\n",
       "Total Backward Packets         0\n",
       "Total Length of Fwd Packets    0\n",
       "Total Length of Bwd Packets    0\n",
       "Fwd Packet Length Max          0\n",
       "Fwd Packet Length Min          0\n",
       "Fwd Packet Length Mean         0\n",
       "Fwd Packet Length Std          0\n",
       "Bwd Packet Length Max          0\n",
       "Bwd Packet Length Min          0\n",
       "Bwd Packet Length Mean         0\n",
       "Bwd Packet Length Std          0\n",
       "Flow Bytes/s                   0\n",
       "Flow Packets/s                 0\n",
       "Flow IAT Mean                  0\n",
       "Flow IAT Std                   0\n",
       "Flow IAT Max                   0\n",
       "Flow IAT Min                   0\n",
       "Fwd IAT Total                  0\n",
       "dtype: int64"
      ]
     },
     "execution_count": 5,
     "metadata": {},
     "output_type": "execute_result"
    }
   ],
   "source": [
    "data.isnull().sum().head(20)"
   ]
  },
  {
   "cell_type": "code",
   "execution_count": 6,
   "id": "4a45d9d6",
   "metadata": {},
   "outputs": [
    {
     "data": {
      "text/plain": [
       "(26800, 78)"
      ]
     },
     "execution_count": 6,
     "metadata": {},
     "output_type": "execute_result"
    }
   ],
   "source": [
    "data.shape"
   ]
  },
  {
   "cell_type": "markdown",
   "id": "dad51f3c",
   "metadata": {},
   "source": [
    "### Split train set and test set"
   ]
  },
  {
   "cell_type": "code",
   "execution_count": 7,
   "id": "91f828fa",
   "metadata": {},
   "outputs": [],
   "source": [
    "x=data.drop(['Label'],axis=1)\n",
    "y=data['Label']\n",
    "xtrain,xtest,ytrain,ytest= train_test_split(x,y,train_size=0.8, test_size=0.2,random_state=0)\n",
    "#shuffle= False"
   ]
  },
  {
   "cell_type": "markdown",
   "id": "76e3354e",
   "metadata": {},
   "source": [
    "### SMOTE to solve class-imbalance"
   ]
  },
  {
   "cell_type": "code",
   "execution_count": 8,
   "id": "806382e8",
   "metadata": {},
   "outputs": [],
   "source": [
    "#pip install imblearn"
   ]
  },
  {
   "cell_type": "code",
   "execution_count": 9,
   "id": "cd5132e3",
   "metadata": {},
   "outputs": [
    {
     "data": {
      "text/plain": [
       "0    14569\n",
       "3     2430\n",
       "6     1728\n",
       "1     1579\n",
       "5     1024\n",
       "2       82\n",
       "4       28\n",
       "Name: Label, dtype: int64"
      ]
     },
     "execution_count": 9,
     "metadata": {},
     "output_type": "execute_result"
    }
   ],
   "source": [
    "pd.Series(ytrain).value_counts()"
   ]
  },
  {
   "cell_type": "code",
   "execution_count": 10,
   "id": "3eec9e2e",
   "metadata": {},
   "outputs": [],
   "source": [
    "from imblearn.over_sampling import SMOTE\n",
    "smote= SMOTE(n_jobs=-1, sampling_strategy={2:1000,4:1000})"
   ]
  },
  {
   "cell_type": "code",
   "execution_count": 11,
   "id": "07322500",
   "metadata": {},
   "outputs": [],
   "source": [
    "xtrain,ytrain = smote.fit_resample(xtrain,ytrain)"
   ]
  },
  {
   "cell_type": "code",
   "execution_count": 12,
   "id": "c99b7d53",
   "metadata": {},
   "outputs": [
    {
     "data": {
      "text/plain": [
       "0    14569\n",
       "3     2430\n",
       "6     1728\n",
       "1     1579\n",
       "5     1024\n",
       "2     1000\n",
       "4     1000\n",
       "Name: Label, dtype: int64"
      ]
     },
     "execution_count": 12,
     "metadata": {},
     "output_type": "execute_result"
    }
   ],
   "source": [
    "pd.Series(ytrain).value_counts()"
   ]
  },
  {
   "cell_type": "markdown",
   "id": "190069fb",
   "metadata": {},
   "source": [
    "# II. ML model training : Ridge Classifier CV "
   ]
  },
  {
   "cell_type": "markdown",
   "id": "7168f3c5",
   "metadata": {},
   "source": [
    "RidgeClassifierCV est un modèle de classification linéaire régularisé qui utilise la régression ridge pour résoudre les problèmes de classification. Il est disponible dans la bibliothèque scikit-learn de Python.\n",
    "\n",
    "Le modèle RidgeClassifierCV est une version améliorée du RidgeClassifier standard. ils sont basé sur la régression logistique régularisée et utilise une régularisation L2 pour limiter la complexité du modèle.La différence entre les deux est que RidgeClassifierCV effectue une validation croisée pour sélectionner le meilleur paramètre de régularisation. La régularisation est utilisée pour éviter le surapprentissage et améliorer la généralisation du modèle.\n",
    "\n",
    "Le modèle RidgeClassifierCV est très utile pour les problèmes de classification linéaire, notamment lorsque le nombre de caractéristiques (ou de variables) est élevé et que le risque de surapprentissage est présent. La validation croisée automatique permet d'optimiser la performance du modèle et d'éviter les biais de sélection de paramètres."
   ]
  },
  {
   "cell_type": "code",
   "execution_count": 13,
   "id": "f053a6d3",
   "metadata": {},
   "outputs": [],
   "source": [
    "from sklearn.linear_model import RidgeClassifierCV"
   ]
  },
  {
   "cell_type": "code",
   "execution_count": 14,
   "id": "f9cfda13",
   "metadata": {},
   "outputs": [
    {
     "name": "stdout",
     "output_type": "stream",
     "text": [
      "Wall time: 331 ms\n"
     ]
    }
   ],
   "source": [
    "%%time\n",
    "RC = RidgeClassifierCV().fit(xtrain, ytrain)"
   ]
  },
  {
   "cell_type": "code",
   "execution_count": 15,
   "id": "19af32b4",
   "metadata": {},
   "outputs": [
    {
     "data": {
      "text/plain": [
       "(5360,)"
      ]
     },
     "execution_count": 15,
     "metadata": {},
     "output_type": "execute_result"
    }
   ],
   "source": [
    "ypred= RC.predict(xtest)\n",
    "ypred.shape"
   ]
  },
  {
   "cell_type": "code",
   "execution_count": 16,
   "id": "bbfe3be5",
   "metadata": {},
   "outputs": [
    {
     "name": "stdout",
     "output_type": "stream",
     "text": [
      "              precision    recall  f1-score   support\n",
      "\n",
      "           0       0.81      0.94      0.87      3656\n",
      "           1       0.21      0.02      0.04       387\n",
      "           2       0.00      0.00      0.00        14\n",
      "           3       0.97      0.65      0.78       612\n",
      "           4       0.13      0.50      0.21         8\n",
      "           5       0.63      0.54      0.58       231\n",
      "           6       0.81      0.84      0.83       452\n",
      "\n",
      "    accuracy                           0.81      5360\n",
      "   macro avg       0.51      0.50      0.47      5360\n",
      "weighted avg       0.78      0.81      0.78      5360\n",
      "\n"
     ]
    }
   ],
   "source": [
    "print(classification_report(ytest,ypred))"
   ]
  },
  {
   "cell_type": "code",
   "execution_count": 17,
   "id": "9116d1e6",
   "metadata": {
    "scrolled": true
   },
   "outputs": [
    {
     "name": "stdout",
     "output_type": "stream",
     "text": [
      "Accuracy of Ridge Classifier CV : 0.8095149253731343\n",
      "\n",
      "Precision of Ridge Classifier CV : 0.7760521911382349\n",
      "\n",
      "Recall of Ridge Classifier CV : 0.8095149253731343\n",
      "\n",
      "Average F1 of Ridge Classifier CV : 0.7801699160439877\n",
      "\n",
      "F1 of Ridge Classifier CV for each type of attack: [0.87088993 0.03755869 0.         0.77603143 0.21052632 0.57808858\n",
      " 0.82532751]\n"
     ]
    }
   ],
   "source": [
    "print(\"Accuracy of Ridge Classifier CV : \"+str(accuracy_score(ytest,ypred)) +\"\\n\")\n",
    "print(\"Precision of Ridge Classifier CV : \"+str(precision_score(ytest,ypred,average=\"weighted\"))+\"\\n\")\n",
    "print(\"Recall of Ridge Classifier CV : \"+str(recall_score(ytest,ypred,average=\"weighted\"))+\"\\n\")\n",
    "print(\"Average F1 of Ridge Classifier CV : \"+str(f1_score(ytest,ypred,average=\"weighted\"))+\"\\n\")\n",
    "print(\"F1 of Ridge Classifier CV for each type of attack: \"+str(f1_score(ytest,ypred, average=None )))"
   ]
  },
  {
   "cell_type": "markdown",
   "id": "9dca4ef9",
   "metadata": {},
   "source": [
    "###  plot the confusion matrix"
   ]
  },
  {
   "cell_type": "code",
   "execution_count": 1,
   "id": "d438d0bb",
   "metadata": {},
   "outputs": [
    {
     "ename": "NameError",
     "evalue": "name 'confusion_matrix' is not defined",
     "output_type": "error",
     "traceback": [
      "\u001b[1;31m---------------------------------------------------------------------------\u001b[0m",
      "\u001b[1;31mNameError\u001b[0m                                 Traceback (most recent call last)",
      "\u001b[1;32m~\\AppData\\Local\\Temp\\ipykernel_15268\\1409899739.py\u001b[0m in \u001b[0;36m<module>\u001b[1;34m\u001b[0m\n\u001b[1;32m----> 1\u001b[1;33m \u001b[0mcm\u001b[0m\u001b[1;33m=\u001b[0m \u001b[0mconfusion_matrix\u001b[0m\u001b[1;33m(\u001b[0m\u001b[0mytest\u001b[0m\u001b[1;33m,\u001b[0m\u001b[0mypred\u001b[0m\u001b[1;33m)\u001b[0m\u001b[1;33m\u001b[0m\u001b[1;33m\u001b[0m\u001b[0m\n\u001b[0m\u001b[0;32m      2\u001b[0m \u001b[0msns\u001b[0m\u001b[1;33m.\u001b[0m\u001b[0mheatmap\u001b[0m\u001b[1;33m(\u001b[0m\u001b[0mcm\u001b[0m\u001b[1;33m,\u001b[0m\u001b[0mannot\u001b[0m\u001b[1;33m=\u001b[0m\u001b[1;32mTrue\u001b[0m \u001b[1;33m,\u001b[0m \u001b[0mlinewidths\u001b[0m\u001b[1;33m=\u001b[0m\u001b[1;36m0.5\u001b[0m\u001b[1;33m,\u001b[0m\u001b[0mlinecolor\u001b[0m\u001b[1;33m=\u001b[0m\u001b[1;34m\"red\"\u001b[0m\u001b[1;33m,\u001b[0m\u001b[0mfmt\u001b[0m\u001b[1;33m=\u001b[0m\u001b[1;34m\".0f\"\u001b[0m\u001b[1;33m)\u001b[0m\u001b[1;33m\u001b[0m\u001b[1;33m\u001b[0m\u001b[0m\n\u001b[0;32m      3\u001b[0m \u001b[0mplt\u001b[0m\u001b[1;33m.\u001b[0m\u001b[0mxlabel\u001b[0m\u001b[1;33m(\u001b[0m\u001b[1;34m\"ypred\"\u001b[0m\u001b[1;33m)\u001b[0m\u001b[1;33m\u001b[0m\u001b[1;33m\u001b[0m\u001b[0m\n\u001b[0;32m      4\u001b[0m \u001b[0mplt\u001b[0m\u001b[1;33m.\u001b[0m\u001b[0mylabel\u001b[0m\u001b[1;33m(\u001b[0m\u001b[1;34m\"ytrue\"\u001b[0m\u001b[1;33m)\u001b[0m\u001b[1;33m\u001b[0m\u001b[1;33m\u001b[0m\u001b[0m\n\u001b[0;32m      5\u001b[0m \u001b[0mplt\u001b[0m\u001b[1;33m.\u001b[0m\u001b[0mtitle\u001b[0m\u001b[1;33m(\u001b[0m\u001b[1;34m\"Confusionn matrix\"\u001b[0m\u001b[1;33m)\u001b[0m\u001b[1;33m\u001b[0m\u001b[1;33m\u001b[0m\u001b[0m\n",
      "\u001b[1;31mNameError\u001b[0m: name 'confusion_matrix' is not defined"
     ]
    }
   ],
   "source": [
    "cm= confusion_matrix(ytest,ypred)\n",
    "sns.heatmap(cm,annot=True , linewidths=0.5,linecolor=\"red\",fmt=\".0f\")\n",
    "plt.xlabel(\"ypred\")\n",
    "plt.ylabel(\"ytrue\")\n",
    "plt.title(\"Confusionn matrix\")\n",
    "plt.show()"
   ]
  },
  {
   "cell_type": "markdown",
   "id": "fa830cab",
   "metadata": {},
   "source": [
    "# III. ML model training : VBGMM"
   ]
  },
  {
   "cell_type": "markdown",
   "id": "d6003f49",
   "metadata": {},
   "source": [
    "VBGMM signifie \"Variational Bayesian Gaussian Mixture Model\", soit en français \"Modèle de mélange de Gaussiennes bayésien variationnel\". C'est une méthode d'apprentissage non supervisé qui permet de modéliser des données multidimensionnelles à partir d'un mélange de distributions gaussiennes.\n",
    "\n",
    "Le VBGMM est une extension du GMM (Gaussian Mixture Model) qui utilise une approche bayésienne et une méthode d'optimisation variationnelle pour estimer les paramètres du modèle. Contrairement au GMM classique qui nécessite de fixer à l'avance le nombre de composantes gaussiennes du mélange, le VBGMM utilise un processus de Dirichlet pour permettre au modèle de déterminer automatiquement le nombre optimal de composantes gaussiennes nécessaires pour modéliser les données.\n",
    "\n",
    "Le VBGMM n'est pas un classificateur en tant que tel, mais il peut être utilisé pour effectuer de la classification en ajoutant une étape supplémentaire de labélisation des données.\n",
    "\n",
    "en effet on peut utiliser le modèle VBGMM comme un algorithme de clustering pour regrouper les données en clusters, puis attribuer une étiquette de classe à chaque cluster en utilisant le mode de la classe majoritaire dans chaque cluster comme étiquette de classe pour ce cluster."
   ]
  },
  {
   "cell_type": "code",
   "execution_count": 19,
   "id": "494c39cf",
   "metadata": {},
   "outputs": [],
   "source": [
    "from sklearn.mixture import BayesianGaussianMixture"
   ]
  },
  {
   "cell_type": "code",
   "execution_count": 20,
   "id": "c1b81771",
   "metadata": {},
   "outputs": [],
   "source": [
    "VBGMM= BayesianGaussianMixture(n_components=7)"
   ]
  },
  {
   "cell_type": "code",
   "execution_count": 21,
   "id": "a48c08ca",
   "metadata": {},
   "outputs": [
    {
     "name": "stdout",
     "output_type": "stream",
     "text": [
      "Wall time: 52.2 s\n"
     ]
    },
    {
     "data": {
      "text/html": [
       "<style>#sk-container-id-1 {color: black;background-color: white;}#sk-container-id-1 pre{padding: 0;}#sk-container-id-1 div.sk-toggleable {background-color: white;}#sk-container-id-1 label.sk-toggleable__label {cursor: pointer;display: block;width: 100%;margin-bottom: 0;padding: 0.3em;box-sizing: border-box;text-align: center;}#sk-container-id-1 label.sk-toggleable__label-arrow:before {content: \"▸\";float: left;margin-right: 0.25em;color: #696969;}#sk-container-id-1 label.sk-toggleable__label-arrow:hover:before {color: black;}#sk-container-id-1 div.sk-estimator:hover label.sk-toggleable__label-arrow:before {color: black;}#sk-container-id-1 div.sk-toggleable__content {max-height: 0;max-width: 0;overflow: hidden;text-align: left;background-color: #f0f8ff;}#sk-container-id-1 div.sk-toggleable__content pre {margin: 0.2em;color: black;border-radius: 0.25em;background-color: #f0f8ff;}#sk-container-id-1 input.sk-toggleable__control:checked~div.sk-toggleable__content {max-height: 200px;max-width: 100%;overflow: auto;}#sk-container-id-1 input.sk-toggleable__control:checked~label.sk-toggleable__label-arrow:before {content: \"▾\";}#sk-container-id-1 div.sk-estimator input.sk-toggleable__control:checked~label.sk-toggleable__label {background-color: #d4ebff;}#sk-container-id-1 div.sk-label input.sk-toggleable__control:checked~label.sk-toggleable__label {background-color: #d4ebff;}#sk-container-id-1 input.sk-hidden--visually {border: 0;clip: rect(1px 1px 1px 1px);clip: rect(1px, 1px, 1px, 1px);height: 1px;margin: -1px;overflow: hidden;padding: 0;position: absolute;width: 1px;}#sk-container-id-1 div.sk-estimator {font-family: monospace;background-color: #f0f8ff;border: 1px dotted black;border-radius: 0.25em;box-sizing: border-box;margin-bottom: 0.5em;}#sk-container-id-1 div.sk-estimator:hover {background-color: #d4ebff;}#sk-container-id-1 div.sk-parallel-item::after {content: \"\";width: 100%;border-bottom: 1px solid gray;flex-grow: 1;}#sk-container-id-1 div.sk-label:hover label.sk-toggleable__label {background-color: #d4ebff;}#sk-container-id-1 div.sk-serial::before {content: \"\";position: absolute;border-left: 1px solid gray;box-sizing: border-box;top: 0;bottom: 0;left: 50%;z-index: 0;}#sk-container-id-1 div.sk-serial {display: flex;flex-direction: column;align-items: center;background-color: white;padding-right: 0.2em;padding-left: 0.2em;position: relative;}#sk-container-id-1 div.sk-item {position: relative;z-index: 1;}#sk-container-id-1 div.sk-parallel {display: flex;align-items: stretch;justify-content: center;background-color: white;position: relative;}#sk-container-id-1 div.sk-item::before, #sk-container-id-1 div.sk-parallel-item::before {content: \"\";position: absolute;border-left: 1px solid gray;box-sizing: border-box;top: 0;bottom: 0;left: 50%;z-index: -1;}#sk-container-id-1 div.sk-parallel-item {display: flex;flex-direction: column;z-index: 1;position: relative;background-color: white;}#sk-container-id-1 div.sk-parallel-item:first-child::after {align-self: flex-end;width: 50%;}#sk-container-id-1 div.sk-parallel-item:last-child::after {align-self: flex-start;width: 50%;}#sk-container-id-1 div.sk-parallel-item:only-child::after {width: 0;}#sk-container-id-1 div.sk-dashed-wrapped {border: 1px dashed gray;margin: 0 0.4em 0.5em 0.4em;box-sizing: border-box;padding-bottom: 0.4em;background-color: white;}#sk-container-id-1 div.sk-label label {font-family: monospace;font-weight: bold;display: inline-block;line-height: 1.2em;}#sk-container-id-1 div.sk-label-container {text-align: center;}#sk-container-id-1 div.sk-container {/* jupyter's `normalize.less` sets `[hidden] { display: none; }` but bootstrap.min.css set `[hidden] { display: none !important; }` so we also need the `!important` here to be able to override the default hidden behavior on the sphinx rendered scikit-learn.org. See: https://github.com/scikit-learn/scikit-learn/issues/21755 */display: inline-block !important;position: relative;}#sk-container-id-1 div.sk-text-repr-fallback {display: none;}</style><div id=\"sk-container-id-1\" class=\"sk-top-container\"><div class=\"sk-text-repr-fallback\"><pre>BayesianGaussianMixture(n_components=7)</pre><b>In a Jupyter environment, please rerun this cell to show the HTML representation or trust the notebook. <br />On GitHub, the HTML representation is unable to render, please try loading this page with nbviewer.org.</b></div><div class=\"sk-container\" hidden><div class=\"sk-item\"><div class=\"sk-estimator sk-toggleable\"><input class=\"sk-toggleable__control sk-hidden--visually\" id=\"sk-estimator-id-1\" type=\"checkbox\" checked><label for=\"sk-estimator-id-1\" class=\"sk-toggleable__label sk-toggleable__label-arrow\">BayesianGaussianMixture</label><div class=\"sk-toggleable__content\"><pre>BayesianGaussianMixture(n_components=7)</pre></div></div></div></div></div>"
      ],
      "text/plain": [
       "BayesianGaussianMixture(n_components=7)"
      ]
     },
     "execution_count": 21,
     "metadata": {},
     "output_type": "execute_result"
    }
   ],
   "source": [
    "%%time\n",
    "VBGMM.fit(xtrain)"
   ]
  },
  {
   "cell_type": "markdown",
   "id": "6660b694",
   "metadata": {},
   "source": [
    "### Obtenir les étiquettes de cluster pour les données\n"
   ]
  },
  {
   "cell_type": "code",
   "execution_count": 22,
   "id": "3279b07c",
   "metadata": {},
   "outputs": [],
   "source": [
    "cluster_labels = VBGMM.predict(xtrain)"
   ]
  },
  {
   "cell_type": "markdown",
   "id": "078f9cac",
   "metadata": {},
   "source": [
    "### Associer une étiquette de classe à chaque cluster\n"
   ]
  },
  {
   "cell_type": "code",
   "execution_count": 23,
   "id": "f5cdbf58",
   "metadata": {},
   "outputs": [],
   "source": [
    "from scipy.stats import mode\n",
    "\n",
    "labels = np.zeros_like(cluster_labels)\n",
    "for i in range(7):\n",
    "    mask = (cluster_labels == i)\n",
    "    labels[mask] = mode(ytrain[mask])[0]"
   ]
  },
  {
   "cell_type": "code",
   "execution_count": 24,
   "id": "8b637213",
   "metadata": {},
   "outputs": [
    {
     "data": {
      "text/plain": [
       "array([0, 3, 4], dtype=int64)"
      ]
     },
     "execution_count": 24,
     "metadata": {},
     "output_type": "execute_result"
    }
   ],
   "source": [
    "np.unique(labels)"
   ]
  },
  {
   "cell_type": "code",
   "execution_count": 25,
   "id": "677c412a",
   "metadata": {},
   "outputs": [
    {
     "name": "stdout",
     "output_type": "stream",
     "text": [
      "              precision    recall  f1-score   support\n",
      "\n",
      "           0       0.67      0.95      0.79     14569\n",
      "           1       0.00      0.00      0.00      1579\n",
      "           2       0.00      0.00      0.00      1000\n",
      "           3       0.65      0.46      0.54      2430\n",
      "           4       0.85      0.79      0.82      1000\n",
      "           5       0.00      0.00      0.00      1024\n",
      "           6       0.00      0.00      0.00      1728\n",
      "\n",
      "    accuracy                           0.68     23330\n",
      "   macro avg       0.31      0.31      0.31     23330\n",
      "weighted avg       0.52      0.68      0.58     23330\n",
      "\n"
     ]
    }
   ],
   "source": [
    "ypred=labels\n",
    "print(classification_report(ytrain,ypred))"
   ]
  },
  {
   "cell_type": "code",
   "execution_count": 26,
   "id": "17592e49",
   "metadata": {},
   "outputs": [
    {
     "name": "stdout",
     "output_type": "stream",
     "text": [
      "Accuracy of VBGMM : 0.676553793399057\n",
      "\n",
      "Precision of VBGMM : 0.5233980988796071\n",
      "\n",
      "Recall of VBGMM : 0.676553793399057\n",
      "\n",
      "Average F1 of VBGMM : 0.582746270929516\n",
      "\n",
      "F1 of VBGMM for each type of attack: [0.7873239  0.         0.         0.53753027 0.81875    0.\n",
      " 0.        ]\n"
     ]
    }
   ],
   "source": [
    "print(\"Accuracy of VBGMM : \"+str(accuracy_score(ytrain,ypred)) +\"\\n\")\n",
    "print(\"Precision of VBGMM : \"+str(precision_score(ytrain,ypred,average=\"weighted\"))+\"\\n\")\n",
    "print(\"Recall of VBGMM : \"+str(recall_score(ytrain,ypred,average=\"weighted\"))+\"\\n\")\n",
    "print(\"Average F1 of VBGMM : \"+str(f1_score(ytrain,ypred,average=\"weighted\"))+\"\\n\")\n",
    "print(\"F1 of VBGMM for each type of attack: \"+str(f1_score(ytrain,ypred, average=None )))"
   ]
  },
  {
   "cell_type": "markdown",
   "id": "c89e0295",
   "metadata": {},
   "source": [
    "###  plot the confusion matrix"
   ]
  },
  {
   "cell_type": "code",
   "execution_count": 27,
   "id": "80c73af7",
   "metadata": {},
   "outputs": [
    {
     "data": {
      "image/png": "[encoded data removed]",
      "text/plain": [
       "<Figure size 432x288 with 2 Axes>"
      ]
     },
     "metadata": {
      "needs_background": "light"
     },
     "output_type": "display_data"
    }
   ],
   "source": [
    "cm= confusion_matrix(ytrain,ypred)\n",
    "sns.heatmap(cm,annot=True , linewidths=0.5,linecolor=\"red\",fmt=\".0f\")\n",
    "plt.xlabel(\"ypred\")\n",
    "plt.ylabel(\"ytrue\")\n",
    "plt.title(\"Confusion matrix\")\n",
    "plt.show()"
   ]
  }
 ],
 "metadata": {
  "kernelspec": {
   "display_name": "Python 3 (ipykernel)",
   "language": "python",
   "name": "python3"
  },
  "language_info": {
   "codemirror_mode": {
    "name": "ipython",
    "version": 3
   },
   "file_extension": ".py",
   "mimetype": "text/x-python",
   "name": "python",
   "nbconvert_exporter": "python",
   "pygments_lexer": "ipython3",
   "version": "3.9.16"
  }
 },
 "nbformat": 4,
 "nbformat_minor": 5
}
